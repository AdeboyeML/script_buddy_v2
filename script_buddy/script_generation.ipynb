{
 "cells": [
  {
   "cell_type": "code",
   "execution_count": null,
   "metadata": {},
   "outputs": [],
   "source": [
    "# This notebook is based largely on @mf1024's \"Teach GPT-2 a sense of humour\"\n",
    "# I've graciously borrowed much of his logic for fine tuning and generating from his implmenetation\n",
    "# Check out his notebook here https://github.com/mf1024/Transformers/blob/master/Teaching%20GPT-2%20a%20sense%20of%20humor.ipynb"
   ]
  },
  {
   "cell_type": "code",
   "execution_count": 94,
   "metadata": {},
   "outputs": [],
   "source": [
    "import torch\n",
    "from torch.utils.data import Dataset\n",
    "from torch.utils.data import Dataset, DataLoader\n",
    "from transformers import GPT2Tokenizer, GPT2LMHeadModel\n",
    "import numpy as np\n",
    "import os"
   ]
  },
  {
   "cell_type": "code",
   "execution_count": 2,
   "metadata": {},
   "outputs": [],
   "source": [
    "device = 'cpu'\n",
    "if torch.cuda.is_available():\n",
    "    device = 'cuda'"
   ]
  },
  {
   "cell_type": "code",
   "execution_count": 4,
   "metadata": {},
   "outputs": [
    {
     "name": "stderr",
     "output_type": "stream",
     "text": [
      "100%|██████████| 1042301/1042301 [00:00<00:00, 1512982.19B/s]\n",
      "100%|██████████| 456318/456318 [00:00<00:00, 1074959.53B/s]\n",
      "100%|██████████| 341/341 [00:00<00:00, 145840.49B/s]\n",
      "100%|██████████| 1520013706/1520013706 [01:46<00:00, 14323311.21B/s]\n"
     ]
    }
   ],
   "source": [
    "tokenizer = GPT2Tokenizer.from_pretrained('gpt2-medium')\n",
    "model = GPT2LMHeadModel.from_pretrained('gpt2-medium')\n",
    "model = model.to(device)\n"
   ]
  },
  {
   "cell_type": "code",
   "execution_count": 90,
   "metadata": {},
   "outputs": [],
   "source": [
    "def choose_top_n(probs, n=5):\n",
    "    ind = np.argpartition(probs,-n)[-n:]\n",
    "    top_probs = probs[ind]\n",
    "    print(top_probs)\n",
    "    top_probs = top_probs / np.sum(top_probs)\n",
    "    choice = np.random.choice(n,1,p= top_probs)\n",
    "    token_id = ind[choice][0]\n",
    "    \n",
    "    return int(token_id)"
   ]
  },
  {
   "cell_type": "code",
   "execution_count": 91,
   "metadata": {},
   "outputs": [
    {
     "name": "stdout",
     "output_type": "stream",
     "text": [
      "[0.6  0.91 0.9  0.99 0.88]\n"
     ]
    },
    {
     "data": {
      "text/plain": [
       "0"
      ]
     },
     "execution_count": 91,
     "metadata": {},
     "output_type": "execute_result"
    }
   ],
   "source": [
    "choose_top_n(np.array([0.99,0.6,0.6,0.91,0.9,0.6,0.88]))"
   ]
  },
  {
   "cell_type": "code",
   "execution_count": 102,
   "metadata": {},
   "outputs": [],
   "source": [
    "FILE_PATH = os.path.join(\"data\", \"film_text.txt\")"
   ]
  },
  {
   "cell_type": "code",
   "execution_count": 132,
   "metadata": {},
   "outputs": [],
   "source": [
    "class ScriptDataset(Dataset):\n",
    "    def __init__(self):\n",
    "        super().__init__()\n",
    "        assert os.path.isfile(FILE_PATH)\n",
    "        directory, filename = os.path.split(FILE_PATH)\n",
    "        \n",
    "        with open(FILE_PATH, \"rb\") as f:\n",
    "            data = f.readlines()\n",
    "            \n",
    "        self.script_text  = []\n",
    "        self.end_of_text_token = \"<|endoftext|>\"\n",
    "        for i, script_entry in enumerate(data):\n",
    "            script_str = f\"{self.end_of_text_token}START:{script_entry}{self.end_of_text_token}\"\n",
    "            self.script_text.append(script_str)\n",
    "        \n",
    "        "
   ]
  },
  {
   "cell_type": "code",
   "execution_count": 133,
   "metadata": {},
   "outputs": [
    {
     "name": "stdout",
     "output_type": "stream",
     "text": [
      "[\"<|endoftext|>START:b'\\\\n'<|endoftext|>\", \"<|endoftext|>START:b'                 STACEY\\\\n'<|endoftext|>\", \"<|endoftext|>START:b'Fucking pervert, Dan!\\\\n'<|endoftext|>\", \"<|endoftext|>START:b'\\\\n'<|endoftext|>\", \"<|endoftext|>START:b'\\\\n'<|endoftext|>\", \"<|endoftext|>START:b'          DANNY\\\\n'<|endoftext|>\", '<|endoftext|>START:b\"There\\'s a black guy outside Der...\\\\n\"<|endoftext|>', \"<|endoftext|>START:b'breaking into your car.\\\\n'<|endoftext|>\", \"<|endoftext|>START:b'\\\\n'<|endoftext|>\", \"<|endoftext|>START:b'Derek, muscled and tattooed, jumps out of the bed and\\\\n'<|endoftext|>\", \"<|endoftext|>START:b'quickly puts on his skivvies. He reaches under his\\\\n'<|endoftext|>\", \"<|endoftext|>START:b'mattress, pulls out a SIG .45 semi-automatic pistol, and\\\\n'<|endoftext|>\", \"<|endoftext|>START:b'shoves in a clip.\\\\n'<|endoftext|>\", \"<|endoftext|>START:b'\\\\n'<|endoftext|>\", \"<|endoftext|>START:b'\\\\n'<|endoftext|>\", \"<|endoftext|>START:b'              DEREK\\\\n'<|endoftext|>\", \"<|endoftext|>START:b'How long has he been out there?\\\\n'<|endoftext|>\", \"<|endoftext|>START:b'\\\\n'<|endoftext|>\", \"<|endoftext|>START:b'\\\\n'<|endoftext|>\", \"<|endoftext|>START:b'          DANNY\\\\n'<|endoftext|>\"]\n"
     ]
    }
   ],
   "source": [
    "sd = ScriptDataset()"
   ]
  },
  {
   "cell_type": "code",
   "execution_count": null,
   "metadata": {},
   "outputs": [],
   "source": []
  }
 ],
 "metadata": {
  "kernelspec": {
   "display_name": "Python 3",
   "language": "python",
   "name": "python3"
  },
  "language_info": {
   "codemirror_mode": {
    "name": "ipython",
    "version": 3
   },
   "file_extension": ".py",
   "mimetype": "text/x-python",
   "name": "python",
   "nbconvert_exporter": "python",
   "pygments_lexer": "ipython3",
   "version": "3.7.6"
  }
 },
 "nbformat": 4,
 "nbformat_minor": 4
}
